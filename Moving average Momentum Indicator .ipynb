{
 "cells": [
  {
   "cell_type": "code",
   "execution_count": 1,
   "metadata": {},
   "outputs": [],
   "source": [
    "import pandas as pd\n",
    "import numpy as np \n",
    "import matplotlib.pyplot as plt \n",
    "import yfinance as yf\n",
    "import quandl as ql"
   ]
  },
  {
   "cell_type": "code",
   "execution_count": null,
   "metadata": {},
   "outputs": [],
   "source": []
  },
  {
   "cell_type": "code",
   "execution_count": 2,
   "metadata": {},
   "outputs": [],
   "source": [
    "df = pd.read_csv('stocks.csv')\n",
    "\n",
    "df = df[df['Country']== 'United States']\n",
    "\n",
    "df = list(df[df['Sector'] != np.nan]['Symbol'])\n",
    "\n",
    "#df = yf.download(df, start = '2020-01-01', end = '2020-12-20')"
   ]
  },
  {
   "cell_type": "code",
   "execution_count": 3,
   "metadata": {},
   "outputs": [],
   "source": [
    "d = pd.DataFrame(df, columns = ['stock'])\n",
    "\n",
    "d['strength'] = np.nan\n",
    "\n",
    "d.index = d['stock']\n",
    "\n",
    "d.drop('stock', axis = 1, inplace = True)"
   ]
  },
  {
   "cell_type": "code",
   "execution_count": 8,
   "metadata": {},
   "outputs": [],
   "source": [
    "def aboveMa(ticket,movingAverage, start_date, end_date):\n",
    "    \n",
    "    c = yf.download(ticket,threads= False, start = start_date, end = end_date)\n",
    "    \n",
    "    counter = 0 \n",
    "    #temp = c[ticket].rolling(window = movingAverage).mean()[movingAverage:]\n",
    "    temp = c['Adj Close'].rolling(window = movingAverage).mean()[movingAverage:]\n",
    "    #for p,m in zip(c[ticket][movingAverage:],temp):\n",
    "    for p,m in zip(c['Adj Close'][movingAverage:],temp):\n",
    "        if int(p)>m:\n",
    "            counter += 1\n",
    "\n",
    "    return(counter/len(temp))\n",
    "\n",
    " \n",
    "    "
   ]
  },
  {
   "cell_type": "code",
   "execution_count": null,
   "metadata": {},
   "outputs": [],
   "source": [
    "counter = 0 \n",
    "\n",
    "for i in d.index:\n",
    "    try:\n",
    "        d['strength'].loc[i] = aboveMa(i,20, '2020-01-01', '2020-12-20')\n",
    "    except:\n",
    "        print('no data')\n",
    "    counter +=1\n",
    "    print(counter)\n",
    "    "
   ]
  },
  {
   "cell_type": "code",
   "execution_count": 14,
   "metadata": {},
   "outputs": [
    {
     "data": {
      "text/plain": [
       "array([[<matplotlib.axes._subplots.AxesSubplot object at 0x000001B327162F48>]],\n",
       "      dtype=object)"
      ]
     },
     "execution_count": 14,
     "metadata": {},
     "output_type": "execute_result"
    },
    {
     "data": {
      "image/png": "[encoded data removed]",
      "text/plain": [
       "<Figure size 432x288 with 1 Axes>"
      ]
     },
     "metadata": {
      "needs_background": "light"
     },
     "output_type": "display_data"
    }
   ],
   "source": [
    "d.hist(bins = 50)"
   ]
  },
  {
   "cell_type": "code",
   "execution_count": null,
   "metadata": {},
   "outputs": [],
   "source": []
  },
  {
   "cell_type": "code",
   "execution_count": 15,
   "metadata": {},
   "outputs": [
    {
     "name": "stdout",
     "output_type": "stream",
     "text": [
      "[*********************100%***********************]  1 of 1 completed\n"
     ]
    },
    {
     "data": {
      "text/plain": [
       "0.7929515418502202"
      ]
     },
     "execution_count": 15,
     "metadata": {},
     "output_type": "execute_result"
    }
   ],
   "source": [
    "aboveMa('se',20, '2020-01-01', '2020-12-23')"
   ]
  },
  {
   "cell_type": "code",
   "execution_count": 16,
   "metadata": {},
   "outputs": [
    {
     "name": "stdout",
     "output_type": "stream",
     "text": [
      "[*********************100%***********************]  1 of 1 completed\n"
     ]
    },
    {
     "data": {
      "text/plain": [
       "0.868421052631579"
      ]
     },
     "execution_count": 16,
     "metadata": {},
     "output_type": "execute_result"
    }
   ],
   "source": [
    "aboveMa('se',20, '2020-10-01', '2020-12-23')"
   ]
  },
  {
   "cell_type": "code",
   "execution_count": 17,
   "metadata": {},
   "outputs": [
    {
     "name": "stdout",
     "output_type": "stream",
     "text": [
      "[*********************100%***********************]  1 of 1 completed\n"
     ]
    },
    {
     "data": {
      "text/plain": [
       "0.7444933920704846"
      ]
     },
     "execution_count": 17,
     "metadata": {},
     "output_type": "execute_result"
    }
   ],
   "source": [
    "aboveMa('ttd',20, '2020-01-01', '2020-12-23')"
   ]
  },
  {
   "cell_type": "code",
   "execution_count": 18,
   "metadata": {},
   "outputs": [
    {
     "name": "stdout",
     "output_type": "stream",
     "text": [
      "[*********************100%***********************]  1 of 1 completed\n"
     ]
    },
    {
     "data": {
      "text/plain": [
       "0.9210526315789473"
      ]
     },
     "execution_count": 18,
     "metadata": {},
     "output_type": "execute_result"
    }
   ],
   "source": [
    "aboveMa('ttd',20, '2020-10-01', '2020-12-23')"
   ]
  },
  {
   "cell_type": "code",
   "execution_count": 29,
   "metadata": {},
   "outputs": [
    {
     "name": "stdout",
     "output_type": "stream",
     "text": [
      "       strength\n",
      "stock          \n",
      "PDAC   1.000000\n",
      "INAQ   1.000000\n",
      "PAIC   1.000000\n",
      "TLS    1.000000\n",
      "CERE   1.000000\n",
      "PRAX   0.960000\n",
      "U      0.955556\n",
      "SVAL   0.937500\n",
      "ALGM   0.937500\n",
      "TVTX   0.920000\n",
      "STTK   0.900000\n",
      "PRLD   0.875000\n",
      "FSTX   0.863636\n",
      "ONCR   0.857143\n",
      "FHTX   0.850000\n",
      "EBC    0.846154\n",
      "TWCT   0.800000\n",
      "ATHA   0.800000\n",
      "KYMR   0.796875\n",
      "RADI   0.794118\n",
      "SE     0.791111\n",
      "SNOW   0.787234\n",
      "CRSR   0.785714\n",
      "LEAP   0.785714\n",
      "TMTS   0.785714\n",
      "SQ     0.777778\n",
      "LUNG   0.777778\n",
      "NGA    0.774194\n",
      "XJR    0.769231\n",
      "NVDA   0.764444\n",
      "MRTX   0.764444\n",
      "ALGS   0.760000\n",
      "CLCT   0.760000\n",
      "EAR    0.760000\n",
      "IIVIP  0.756757\n",
      "TWST   0.755556\n",
      "CRWD   0.751111\n",
      "AVGO   0.751111\n",
      "CVNA   0.746667\n",
      "TTD    0.742222\n",
      "KNSL   0.742222\n",
      "NOW    0.737778\n",
      "ZG     0.737778\n",
      "IDXX   0.737778\n",
      "BLK    0.737778\n",
      "ZM     0.737778\n",
      "RH     0.733333\n",
      "LOGI   0.733333\n",
      "SAM    0.728889\n",
      "BL     0.728889\n",
      "SITM   0.724444\n",
      "RARE   0.724444\n",
      "Z      0.724444\n",
      "AVGOP  0.724444\n",
      "DOCU   0.724444\n",
      "TSLA   0.720000\n",
      "TMO    0.715556\n",
      "CDNS   0.715556\n",
      "POOL   0.715556\n",
      "NVMZ   0.714286\n",
      "SVAC   0.714286\n",
      "ISRG   0.711111\n",
      "VRTS   0.711111\n",
      "NUAN   0.711111\n",
      "FIVN   0.711111\n",
      "ZS     0.711111\n",
      "FDX    0.711111\n",
      "MPWR   0.706667\n",
      "HUBS   0.706667\n",
      "GNRC   0.706667\n",
      "ENPH   0.706667\n",
      "INSP   0.706667\n",
      "IIPR   0.706667\n",
      "GATO   0.705882\n",
      "GSHD   0.702222\n",
      "SPSC   0.702222\n",
      "CMG    0.702222\n",
      "NOVA   0.702222\n",
      "RDFN   0.697778\n",
      "MTCH   0.693333\n",
      "EPAM   0.693333\n",
      "CHTR   0.693333\n",
      "TSCO   0.693333\n",
      "TRUP   0.693333\n",
      "AMZN   0.693333\n",
      "CCK    0.693333\n",
      "XJH    0.692308\n",
      "FRPT   0.688889\n",
      "PYPL   0.688889\n",
      "SIVB   0.688889\n",
      "PTON   0.688889\n",
      "CCCC   0.685714\n",
      "PFSI   0.684444\n",
      "NET    0.684444\n",
      "VRNS   0.684444\n",
      "LRCX   0.684444\n",
      "GTLS   0.684444\n",
      "TPIC   0.680000\n",
      "BAND   0.680000\n",
      "IPGP   0.680000\n"
     ]
    }
   ],
   "source": [
    "print(d.sort_values(by = ['strength'], ascending = False)[:100].to_string())"
   ]
  },
  {
   "cell_type": "code",
   "execution_count": 31,
   "metadata": {},
   "outputs": [],
   "source": [
    "d.to_pickle('momentum')"
   ]
  },
  {
   "cell_type": "code",
   "execution_count": 32,
   "metadata": {},
   "outputs": [
    {
     "data": {
      "text/html": [
       "<div>\n",
       "<style scoped>\n",
       "    .dataframe tbody tr th:only-of-type {\n",
       "        vertical-align: middle;\n",
       "    }\n",
       "\n",
       "    .dataframe tbody tr th {\n",
       "        vertical-align: top;\n",
       "    }\n",
       "\n",
       "    .dataframe thead th {\n",
       "        text-align: right;\n",
       "    }\n",
       "</style>\n",
       "<table border=\"1\" class=\"dataframe\">\n",
       "  <thead>\n",
       "    <tr style=\"text-align: right;\">\n",
       "      <th></th>\n",
       "      <th>strength</th>\n",
       "    </tr>\n",
       "    <tr>\n",
       "      <th>stock</th>\n",
       "      <th></th>\n",
       "    </tr>\n",
       "  </thead>\n",
       "  <tbody>\n",
       "    <tr>\n",
       "      <th>A</th>\n",
       "      <td>0.657778</td>\n",
       "    </tr>\n",
       "    <tr>\n",
       "      <th>AACQ</th>\n",
       "      <td>0.092593</td>\n",
       "    </tr>\n",
       "    <tr>\n",
       "      <th>AACQU</th>\n",
       "      <td>0.010870</td>\n",
       "    </tr>\n",
       "    <tr>\n",
       "      <th>AACQW</th>\n",
       "      <td>NaN</td>\n",
       "    </tr>\n",
       "    <tr>\n",
       "      <th>AAIC</th>\n",
       "      <td>0.133333</td>\n",
       "    </tr>\n",
       "    <tr>\n",
       "      <th>...</th>\n",
       "      <td>...</td>\n",
       "    </tr>\n",
       "    <tr>\n",
       "      <th>ZTS</th>\n",
       "      <td>0.608889</td>\n",
       "    </tr>\n",
       "    <tr>\n",
       "      <th>ZUMZ</th>\n",
       "      <td>0.453333</td>\n",
       "    </tr>\n",
       "    <tr>\n",
       "      <th>ZVO</th>\n",
       "      <td>0.231111</td>\n",
       "    </tr>\n",
       "    <tr>\n",
       "      <th>ZYNE</th>\n",
       "      <td>0.204444</td>\n",
       "    </tr>\n",
       "    <tr>\n",
       "      <th>ZYXI</th>\n",
       "      <td>0.417778</td>\n",
       "    </tr>\n",
       "  </tbody>\n",
       "</table>\n",
       "<p>5130 rows × 1 columns</p>\n",
       "</div>"
      ],
      "text/plain": [
       "       strength\n",
       "stock          \n",
       "A      0.657778\n",
       "AACQ   0.092593\n",
       "AACQU  0.010870\n",
       "AACQW       NaN\n",
       "AAIC   0.133333\n",
       "...         ...\n",
       "ZTS    0.608889\n",
       "ZUMZ   0.453333\n",
       "ZVO    0.231111\n",
       "ZYNE   0.204444\n",
       "ZYXI   0.417778\n",
       "\n",
       "[5130 rows x 1 columns]"
      ]
     },
     "execution_count": 32,
     "metadata": {},
     "output_type": "execute_result"
    }
   ],
   "source": [
    "pd.read_pickle('momentum')"
   ]
  },
  {
   "cell_type": "code",
   "execution_count": null,
   "metadata": {},
   "outputs": [],
   "source": []
  }
 ],
 "metadata": {
  "kernelspec": {
   "display_name": "Python 3",
   "language": "python",
   "name": "python3"
  },
  "language_info": {
   "codemirror_mode": {
    "name": "ipython",
    "version": 3
   },
   "file_extension": ".py",
   "mimetype": "text/x-python",
   "name": "python",
   "nbconvert_exporter": "python",
   "pygments_lexer": "ipython3",
   "version": "3.7.6"
  }
 },
 "nbformat": 4,
 "nbformat_minor": 4
}
